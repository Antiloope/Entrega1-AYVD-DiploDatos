{
 "cells": [
  {
   "cell_type": "markdown",
   "metadata": {},
   "source": [
    "\n",
    "**Diplomatura en Ciencia de Datos, Aprendizaje Automático y sus Aplicaciones**\n",
    "\n",
    "**Edición 2022**\n",
    "\n",
    "---\n",
    "\n",
    "# Trabajo práctico entregable - Parte 2"
   ]
  },
  {
   "cell_type": "code",
   "execution_count": 1,
   "metadata": {},
   "outputs": [],
   "source": [
    "import io\n",
    "import matplotlib\n",
    "import matplotlib.pyplot as plt\n",
    "import numpy\n",
    "import pandas as pd\n",
    "import seaborn\n",
    "from scipy import stats\n",
    "\n",
    "seaborn.set_context('talk')"
   ]
  },
  {
   "cell_type": "markdown",
   "metadata": {
    "id": "XY2Hl-Ma07Nn"
   },
   "source": [
    "## Lectura del dataset\n",
    "\n",
    "En la notebook 00 se explican los detalles de la siguiente sección."
   ]
  },
  {
   "cell_type": "code",
   "execution_count": 2,
   "metadata": {
    "id": "Vviv_sqXdR5W"
   },
   "outputs": [],
   "source": [
    "url = 'https://cs.famaf.unc.edu.ar/~mteruel/datasets/diplodatos/sysarmy_survey_2020_processed.csv'\n",
    "df = pd.read_csv(url)"
   ]
  },
  {
   "cell_type": "code",
   "execution_count": 3,
   "metadata": {
    "colab": {
     "base_uri": "https://localhost:8080/",
     "height": 297
    },
    "id": "gckNHXXLktJ4",
    "outputId": "8a359f96-42c3-442d-b73f-dbd453369435"
   },
   "outputs": [
    {
     "data": {
      "text/html": [
       "<div>\n",
       "<style scoped>\n",
       "    .dataframe tbody tr th:only-of-type {\n",
       "        vertical-align: middle;\n",
       "    }\n",
       "\n",
       "    .dataframe tbody tr th {\n",
       "        vertical-align: top;\n",
       "    }\n",
       "\n",
       "    .dataframe thead th {\n",
       "        text-align: right;\n",
       "    }\n",
       "</style>\n",
       "<table border=\"1\" class=\"dataframe\">\n",
       "  <thead>\n",
       "    <tr style=\"text-align: right;\">\n",
       "      <th></th>\n",
       "      <th>profile_gender</th>\n",
       "      <th>profile_age</th>\n",
       "      <th>work_country</th>\n",
       "      <th>work_province</th>\n",
       "      <th>profile_years_experience</th>\n",
       "      <th>work_years_in_company</th>\n",
       "      <th>work_years_in_current_position</th>\n",
       "      <th>work_people_in_charge_of</th>\n",
       "      <th>profile_studies_level</th>\n",
       "      <th>profile_studies_level_state</th>\n",
       "      <th>...</th>\n",
       "      <th>work_has_violence_situations</th>\n",
       "      <th>profile_sexual_orientation</th>\n",
       "      <th>profile_has_disabilities</th>\n",
       "      <th>profile_has_disabilities_hiring_difficulties</th>\n",
       "      <th>company_employee_number</th>\n",
       "      <th>company_main_activity</th>\n",
       "      <th>company_recommended</th>\n",
       "      <th>company_diversity_policies</th>\n",
       "      <th>company_extra_benefits</th>\n",
       "      <th>company_best_companies_city</th>\n",
       "    </tr>\n",
       "  </thead>\n",
       "  <tbody>\n",
       "    <tr>\n",
       "      <th>0</th>\n",
       "      <td>Mujer</td>\n",
       "      <td>26</td>\n",
       "      <td>Argentina</td>\n",
       "      <td>Ciudad Autónoma de Buenos Aires</td>\n",
       "      <td>3.0</td>\n",
       "      <td>3.0</td>\n",
       "      <td>3.0</td>\n",
       "      <td>0</td>\n",
       "      <td>Universitario</td>\n",
       "      <td>En curso</td>\n",
       "      <td>...</td>\n",
       "      <td>En mi trabajo actual</td>\n",
       "      <td>Homosexual</td>\n",
       "      <td>NaN</td>\n",
       "      <td>NaN</td>\n",
       "      <td>501-1000</td>\n",
       "      <td>Servicios / Consultoría de Software / Digital</td>\n",
       "      <td>7</td>\n",
       "      <td>2</td>\n",
       "      <td>Capacitaciones y/o cursos, Comidas pagas / sub...</td>\n",
       "      <td>NaN</td>\n",
       "    </tr>\n",
       "    <tr>\n",
       "      <th>1</th>\n",
       "      <td>Hombre</td>\n",
       "      <td>29</td>\n",
       "      <td>Argentina</td>\n",
       "      <td>Corrientes</td>\n",
       "      <td>5.0</td>\n",
       "      <td>2.0</td>\n",
       "      <td>2.0</td>\n",
       "      <td>4</td>\n",
       "      <td>Universitario</td>\n",
       "      <td>En curso</td>\n",
       "      <td>...</td>\n",
       "      <td>Jamás</td>\n",
       "      <td>Heterosexual</td>\n",
       "      <td>Visual</td>\n",
       "      <td>No</td>\n",
       "      <td>201-500</td>\n",
       "      <td>Otras industrias</td>\n",
       "      <td>8</td>\n",
       "      <td>9</td>\n",
       "      <td>Horarios flexibles, Stock options / RSUs, Viát...</td>\n",
       "      <td>NaN</td>\n",
       "    </tr>\n",
       "    <tr>\n",
       "      <th>2</th>\n",
       "      <td>Mujer</td>\n",
       "      <td>22</td>\n",
       "      <td>Argentina</td>\n",
       "      <td>Ciudad Autónoma de Buenos Aires</td>\n",
       "      <td>2.0</td>\n",
       "      <td>0.0</td>\n",
       "      <td>0.0</td>\n",
       "      <td>0</td>\n",
       "      <td>Secundario</td>\n",
       "      <td>Completado</td>\n",
       "      <td>...</td>\n",
       "      <td>En un trabajo anterior</td>\n",
       "      <td>Bisexual o queer</td>\n",
       "      <td>NaN</td>\n",
       "      <td>No</td>\n",
       "      <td>2001-5000</td>\n",
       "      <td>Otras industrias</td>\n",
       "      <td>6</td>\n",
       "      <td>9</td>\n",
       "      <td>Clases de gimnasia online, Comidas pagas / sub...</td>\n",
       "      <td>NaN</td>\n",
       "    </tr>\n",
       "  </tbody>\n",
       "</table>\n",
       "<p>3 rows × 48 columns</p>\n",
       "</div>"
      ],
      "text/plain": [
       "  profile_gender  profile_age work_country                    work_province  \\\n",
       "0          Mujer           26    Argentina  Ciudad Autónoma de Buenos Aires   \n",
       "1         Hombre           29    Argentina                       Corrientes   \n",
       "2          Mujer           22    Argentina  Ciudad Autónoma de Buenos Aires   \n",
       "\n",
       "   profile_years_experience  work_years_in_company  \\\n",
       "0                       3.0                    3.0   \n",
       "1                       5.0                    2.0   \n",
       "2                       2.0                    0.0   \n",
       "\n",
       "   work_years_in_current_position  work_people_in_charge_of  \\\n",
       "0                             3.0                         0   \n",
       "1                             2.0                         4   \n",
       "2                             0.0                         0   \n",
       "\n",
       "  profile_studies_level profile_studies_level_state  ...  \\\n",
       "0         Universitario                    En curso  ...   \n",
       "1         Universitario                    En curso  ...   \n",
       "2            Secundario                  Completado  ...   \n",
       "\n",
       "  work_has_violence_situations profile_sexual_orientation  \\\n",
       "0         En mi trabajo actual                 Homosexual   \n",
       "1                        Jamás               Heterosexual   \n",
       "2       En un trabajo anterior           Bisexual o queer   \n",
       "\n",
       "  profile_has_disabilities profile_has_disabilities_hiring_difficulties  \\\n",
       "0                      NaN                                          NaN   \n",
       "1                   Visual                                           No   \n",
       "2                      NaN                                           No   \n",
       "\n",
       "  company_employee_number                          company_main_activity  \\\n",
       "0                501-1000  Servicios / Consultoría de Software / Digital   \n",
       "1                 201-500                               Otras industrias   \n",
       "2               2001-5000                               Otras industrias   \n",
       "\n",
       "  company_recommended company_diversity_policies  \\\n",
       "0                   7                          2   \n",
       "1                   8                          9   \n",
       "2                   6                          9   \n",
       "\n",
       "                              company_extra_benefits  \\\n",
       "0  Capacitaciones y/o cursos, Comidas pagas / sub...   \n",
       "1  Horarios flexibles, Stock options / RSUs, Viát...   \n",
       "2  Clases de gimnasia online, Comidas pagas / sub...   \n",
       "\n",
       "  company_best_companies_city  \n",
       "0                         NaN  \n",
       "1                         NaN  \n",
       "2                         NaN  \n",
       "\n",
       "[3 rows x 48 columns]"
      ]
     },
     "execution_count": 3,
     "metadata": {},
     "output_type": "execute_result"
    }
   ],
   "source": [
    "df[:3]"
   ]
  },
  {
   "cell_type": "code",
   "execution_count": 4,
   "metadata": {
    "colab": {
     "base_uri": "https://localhost:8080/",
     "height": 203
    },
    "id": "2lzmzK1NuPNT",
    "outputId": "41e0e478-b95b-4dc4-a390-902bd50a8ce3"
   },
   "outputs": [
    {
     "data": {
      "text/html": [
       "<div>\n",
       "<style scoped>\n",
       "    .dataframe tbody tr th:only-of-type {\n",
       "        vertical-align: middle;\n",
       "    }\n",
       "\n",
       "    .dataframe tbody tr th {\n",
       "        vertical-align: top;\n",
       "    }\n",
       "\n",
       "    .dataframe thead tr th {\n",
       "        text-align: left;\n",
       "    }\n",
       "\n",
       "    .dataframe thead tr:last-of-type th {\n",
       "        text-align: right;\n",
       "    }\n",
       "</style>\n",
       "<table border=\"1\" class=\"dataframe\">\n",
       "  <thead>\n",
       "    <tr>\n",
       "      <th></th>\n",
       "      <th colspan=\"8\" halign=\"left\">salary_monthly_NETO</th>\n",
       "    </tr>\n",
       "    <tr>\n",
       "      <th></th>\n",
       "      <th>count</th>\n",
       "      <th>mean</th>\n",
       "      <th>std</th>\n",
       "      <th>min</th>\n",
       "      <th>25%</th>\n",
       "      <th>50%</th>\n",
       "      <th>75%</th>\n",
       "      <th>max</th>\n",
       "    </tr>\n",
       "    <tr>\n",
       "      <th>profile_gender</th>\n",
       "      <th></th>\n",
       "      <th></th>\n",
       "      <th></th>\n",
       "      <th></th>\n",
       "      <th></th>\n",
       "      <th></th>\n",
       "      <th></th>\n",
       "      <th></th>\n",
       "    </tr>\n",
       "  </thead>\n",
       "  <tbody>\n",
       "    <tr>\n",
       "      <th>Hombre</th>\n",
       "      <td>4944.0</td>\n",
       "      <td>98836.063558</td>\n",
       "      <td>102159.664237</td>\n",
       "      <td>1.0</td>\n",
       "      <td>53285.0</td>\n",
       "      <td>80000.0</td>\n",
       "      <td>110000.0</td>\n",
       "      <td>2080000.0</td>\n",
       "    </tr>\n",
       "    <tr>\n",
       "      <th>Mujer</th>\n",
       "      <td>908.0</td>\n",
       "      <td>73501.414465</td>\n",
       "      <td>56256.880181</td>\n",
       "      <td>2.0</td>\n",
       "      <td>43818.0</td>\n",
       "      <td>65000.0</td>\n",
       "      <td>92000.0</td>\n",
       "      <td>800000.0</td>\n",
       "    </tr>\n",
       "    <tr>\n",
       "      <th>Otros</th>\n",
       "      <td>31.0</td>\n",
       "      <td>95441.354839</td>\n",
       "      <td>88635.674358</td>\n",
       "      <td>40.0</td>\n",
       "      <td>39500.0</td>\n",
       "      <td>74000.0</td>\n",
       "      <td>117500.0</td>\n",
       "      <td>380000.0</td>\n",
       "    </tr>\n",
       "  </tbody>\n",
       "</table>\n",
       "</div>"
      ],
      "text/plain": [
       "               salary_monthly_NETO                                     \\\n",
       "                             count          mean            std   min   \n",
       "profile_gender                                                          \n",
       "Hombre                      4944.0  98836.063558  102159.664237   1.0   \n",
       "Mujer                        908.0  73501.414465   56256.880181   2.0   \n",
       "Otros                         31.0  95441.354839   88635.674358  40.0   \n",
       "\n",
       "                                                       \n",
       "                    25%      50%       75%        max  \n",
       "profile_gender                                         \n",
       "Hombre          53285.0  80000.0  110000.0  2080000.0  \n",
       "Mujer           43818.0  65000.0   92000.0   800000.0  \n",
       "Otros           39500.0  74000.0  117500.0   380000.0  "
      ]
     },
     "execution_count": 4,
     "metadata": {},
     "output_type": "execute_result"
    }
   ],
   "source": [
    "df[['profile_gender', 'salary_monthly_NETO']].groupby('profile_gender').describe()"
   ]
  },
  {
   "cell_type": "code",
   "execution_count": 5,
   "metadata": {
    "colab": {
     "base_uri": "https://localhost:8080/",
     "height": 203
    },
    "id": "pycKJ5jWkShW",
    "outputId": "39835943-cb56-417f-cac7-d7068b0d12f9"
   },
   "outputs": [
    {
     "data": {
      "text/html": [
       "<div>\n",
       "<style scoped>\n",
       "    .dataframe tbody tr th:only-of-type {\n",
       "        vertical-align: middle;\n",
       "    }\n",
       "\n",
       "    .dataframe tbody tr th {\n",
       "        vertical-align: top;\n",
       "    }\n",
       "\n",
       "    .dataframe thead tr th {\n",
       "        text-align: left;\n",
       "    }\n",
       "\n",
       "    .dataframe thead tr:last-of-type th {\n",
       "        text-align: right;\n",
       "    }\n",
       "</style>\n",
       "<table border=\"1\" class=\"dataframe\">\n",
       "  <thead>\n",
       "    <tr>\n",
       "      <th></th>\n",
       "      <th colspan=\"8\" halign=\"left\">salary_monthly_NETO</th>\n",
       "    </tr>\n",
       "    <tr>\n",
       "      <th></th>\n",
       "      <th>count</th>\n",
       "      <th>mean</th>\n",
       "      <th>std</th>\n",
       "      <th>min</th>\n",
       "      <th>25%</th>\n",
       "      <th>50%</th>\n",
       "      <th>75%</th>\n",
       "      <th>max</th>\n",
       "    </tr>\n",
       "    <tr>\n",
       "      <th>profile_gender</th>\n",
       "      <th></th>\n",
       "      <th></th>\n",
       "      <th></th>\n",
       "      <th></th>\n",
       "      <th></th>\n",
       "      <th></th>\n",
       "      <th></th>\n",
       "      <th></th>\n",
       "    </tr>\n",
       "  </thead>\n",
       "  <tbody>\n",
       "    <tr>\n",
       "      <th>Hombre</th>\n",
       "      <td>4815.0</td>\n",
       "      <td>101481.624343</td>\n",
       "      <td>102215.304684</td>\n",
       "      <td>1100.0</td>\n",
       "      <td>55000.0</td>\n",
       "      <td>80000.0</td>\n",
       "      <td>110000.0</td>\n",
       "      <td>2080000.0</td>\n",
       "    </tr>\n",
       "    <tr>\n",
       "      <th>Mujer</th>\n",
       "      <td>863.0</td>\n",
       "      <td>77328.913778</td>\n",
       "      <td>55082.760570</td>\n",
       "      <td>2000.0</td>\n",
       "      <td>47850.0</td>\n",
       "      <td>67200.0</td>\n",
       "      <td>93000.0</td>\n",
       "      <td>800000.0</td>\n",
       "    </tr>\n",
       "    <tr>\n",
       "      <th>Otros</th>\n",
       "      <td>28.0</td>\n",
       "      <td>105660.714286</td>\n",
       "      <td>87235.710235</td>\n",
       "      <td>34000.0</td>\n",
       "      <td>43750.0</td>\n",
       "      <td>78900.0</td>\n",
       "      <td>122750.0</td>\n",
       "      <td>380000.0</td>\n",
       "    </tr>\n",
       "  </tbody>\n",
       "</table>\n",
       "</div>"
      ],
      "text/plain": [
       "               salary_monthly_NETO                                         \\\n",
       "                             count           mean            std      min   \n",
       "profile_gender                                                              \n",
       "Hombre                      4815.0  101481.624343  102215.304684   1100.0   \n",
       "Mujer                        863.0   77328.913778   55082.760570   2000.0   \n",
       "Otros                         28.0  105660.714286   87235.710235  34000.0   \n",
       "\n",
       "                                                       \n",
       "                    25%      50%       75%        max  \n",
       "profile_gender                                         \n",
       "Hombre          55000.0  80000.0  110000.0  2080000.0  \n",
       "Mujer           47850.0  67200.0   93000.0   800000.0  \n",
       "Otros           43750.0  78900.0  122750.0   380000.0  "
      ]
     },
     "execution_count": 5,
     "metadata": {},
     "output_type": "execute_result"
    }
   ],
   "source": [
    "df[df.salary_monthly_NETO > 1000]\\\n",
    "  [['profile_gender', 'salary_monthly_NETO']].groupby('profile_gender').describe()"
   ]
  },
  {
   "cell_type": "code",
   "execution_count": 6,
   "metadata": {
    "id": "uZ1GxkLylHx0"
   },
   "outputs": [],
   "source": [
    "alpha = 0.05"
   ]
  },
  {
   "cell_type": "code",
   "execution_count": 7,
   "metadata": {
    "id": "OfzFpDO-lYxk"
   },
   "outputs": [],
   "source": [
    "is_man = df.profile_gender == 'Hombre'\n",
    "\n",
    "groupA = df[(df.salary_monthly_NETO > 1000) & is_man].salary_monthly_NETO\n",
    "groupB = df[(df.salary_monthly_NETO > 1000) & ~is_man].salary_monthly_NETO"
   ]
  },
  {
   "cell_type": "markdown",
   "metadata": {
    "id": "co_0M_ojtmUh"
   },
   "source": [
    "## Ejercicio 1: Estimación\n",
    "\n",
    "**Consigna:**  Calcular una estimación puntual y un intervalo de confianza de nivel (1-alpha) para la resta entre la media del salario Neto para Hombres menos la media del salario Neto para otros géneros(diferencia de las medias entre el grupoA y grupoB). \n",
    "¿Cómo se relaciona este intervalo de confianza con el test de hipótesis?"
   ]
  },
  {
   "cell_type": "markdown",
   "metadata": {},
   "source": [
    "### Solución\n",
    "\n",
    "El parámetro a estimar es la diferencia de medias. Se calculan las medias de los dos grupos de variables y\n",
    "luego se efectua la resta"
   ]
  },
  {
   "cell_type": "code",
   "execution_count": 8,
   "metadata": {
    "id": "0fA1RQ0upe6N"
   },
   "outputs": [
    {
     "name": "stdout",
     "output_type": "stream",
     "text": [
      "101481.62434267912\n",
      "78219.25094276095\n"
     ]
    }
   ],
   "source": [
    "media_grupoA = groupA.mean()\n",
    "media_grupoB = groupB.mean()\n",
    "\n",
    "print(media_grupoA)\n",
    "print(media_grupoB)"
   ]
  },
  {
   "cell_type": "code",
   "execution_count": 12,
   "metadata": {},
   "outputs": [
    {
     "name": "stdout",
     "output_type": "stream",
     "text": [
      "102215.30468444867\n",
      "56515.32732350074\n",
      "4815\n",
      "891\n"
     ]
    }
   ],
   "source": [
    "dif_medias_grupoAB = media_grupoA - media_grupoB\n",
    "dif_medias_grupoAB\n",
    "\n",
    "std_grupoA = groupA.std()\n",
    "std_grupoB = groupB.std()\n",
    "\n",
    "print(std_grupoA)\n",
    "print(std_grupoB)\n",
    "\n",
    "print(len(groupA))\n",
    "\n",
    "print(len(groupB))"
   ]
  },
  {
   "cell_type": "markdown",
   "metadata": {},
   "source": [
    "Se genera una muestra del grupo A, para luego calcular el Estadístico. En este supuesto se utilizará el Estadśitico Media Muestral"
   ]
  },
  {
   "cell_type": "code",
   "execution_count": 13,
   "metadata": {},
   "outputs": [
    {
     "data": {
      "text/plain": [
       "<AxesSubplot:xlabel='salary_monthly_NETO', ylabel='Count'>"
      ]
     },
     "execution_count": 13,
     "metadata": {},
     "output_type": "execute_result"
    },
    {
     "data": {
      "image/png": "[encoded data removed]",
      "text/plain": [
       "<Figure size 432x288 with 1 Axes>"
      ]
     },
     "metadata": {
      "needs_background": "light"
     },
     "output_type": "display_data"
    }
   ],
   "source": [
    "n_A = 2000\n",
    "\n",
    "# Generamos muestra del grupo A\n",
    "muestra_grupoA=groupA.sample(n_A, replace=False) # muestra de tamaño n\n",
    "\n",
    "seaborn.histplot(muestra_grupoA, bins=50)"
   ]
  },
  {
   "cell_type": "code",
   "execution_count": 15,
   "metadata": {},
   "outputs": [
    {
     "data": {
      "text/plain": [
       "<AxesSubplot:xlabel='salary_monthly_NETO', ylabel='Count'>"
      ]
     },
     "execution_count": 15,
     "metadata": {},
     "output_type": "execute_result"
    },
    {
     "data": {
      "image/png": "[encoded data removed]",
      "text/plain": [
       "<Figure size 432x288 with 1 Axes>"
      ]
     },
     "metadata": {
      "needs_background": "light"
     },
     "output_type": "display_data"
    }
   ],
   "source": [
    "# Se calcula el estadistico para la muestra del grupo A\n",
    "\n",
    "# Estimador media muestral grupo A\n",
    "promedio_muestraA = muestra_grupoA.mean()\n",
    "promedio_muestraA\n",
    "\n",
    "# Se genera una muestra del grupo B, para luego calcular el Estadístico.\n",
    "\n",
    "# Muestra grupo B\n",
    "n_B=700\n",
    "muestra_grupoB=groupB.sample(n_B, replace=False) # muestra de tamaño n\n",
    "\n",
    "seaborn.histplot(muestra_grupoB, bins=30)"
   ]
  },
  {
   "cell_type": "code",
   "execution_count": 16,
   "metadata": {},
   "outputs": [
    {
     "name": "stdout",
     "output_type": "stream",
     "text": [
      "100289.066565\n",
      "78239.3591\n"
     ]
    }
   ],
   "source": [
    "# Se calcula el estadistico para la muestra del grupo B\n",
    "\n",
    "# Estimador media muestral grupo B\n",
    "promedio_muestraB = muestra_grupoB.mean()\n",
    "promedio_muestraB\n",
    "\n",
    "print(muestra_grupoA.mean())\n",
    "print(muestra_grupoB.mean())"
   ]
  },
  {
   "cell_type": "code",
   "execution_count": 17,
   "metadata": {},
   "outputs": [
    {
     "data": {
      "text/plain": [
       "22049.707465"
      ]
     },
     "execution_count": 17,
     "metadata": {},
     "output_type": "execute_result"
    }
   ],
   "source": [
    "# Calculados los estadísticos de cada grupo, se procede a calcular la Estimación Puntual\n",
    "# Para el parámetro diferencia de medias\n",
    "\n",
    "# Estimación puntual \n",
    "dif_medias_muestraAB = muestra_grupoA.mean()-muestra_grupoB.mean()\n",
    "dif_medias_muestraAB"
   ]
  },
  {
   "cell_type": "markdown",
   "metadata": {},
   "source": [
    "Intervalo de confianza de nivel (1-alpha) para la resta entre la media del salario Neto para Hombres menos la media del salario Neto para otros géneros(diferencia de las medias entre el grupoA y grupoB)"
   ]
  },
  {
   "cell_type": "code",
   "execution_count": 19,
   "metadata": {},
   "outputs": [
    {
     "name": "stdout",
     "output_type": "stream",
     "text": [
      "9313902302.56884\n",
      "2912449180.602014\n"
     ]
    }
   ],
   "source": [
    "# Se calculan las varianzas de las muestras para determinar cómo calcular el estadístico pivote\n",
    "\n",
    "print(muestra_grupoA.var())\n",
    "print(muestra_grupoB.var())\n",
    "\n",
    "grados_de_libertad = ((muestra_grupoA.std()/n_A+muestra_grupoB.std()/n_B)**2)/(((muestra_grupoA.std()/n_A)**2)/n_A-1+((muestra_grupoB.std()/n_B)**2)/n_B-1)\n",
    "grados_de_libertad\n",
    "\n",
    "std_A=muestra_grupoA.std()\n",
    "std_B=muestra_grupoB.std()"
   ]
  },
  {
   "cell_type": "markdown",
   "metadata": {},
   "source": [
    "Para calcular el intervalo de confianza de nivel 1-alpha para diferencia de medias se aplica el método Weltch ya que las muestras tienen varianza diferente,\n",
    "\n",
    "El método que utiliza t de student para el calculo de los intervalos Inferior y Superior"
   ]
  },
  {
   "cell_type": "code",
   "execution_count": 20,
   "metadata": {},
   "outputs": [
    {
     "data": {
      "text/plain": [
       "43.88827425822819"
      ]
     },
     "execution_count": 20,
     "metadata": {},
     "output_type": "execute_result"
    }
   ],
   "source": [
    "# El nivel del intervalo es de 1-0.05=0.95\n",
    "alpha = 0.05\n",
    "t_score = 1.96\n",
    "\n",
    "# Se calculan los intervalos\n",
    "estadistico_liminf =(promedio_muestraA-promedio_muestraB)-t_score*numpy.sqrt(std_A/n_A+std_B/n_B)\n",
    "estadistico_limsup =(promedio_muestraA-promedio_muestraB)+t_score*numpy.sqrt(std_A/n_A+std_B/n_B)\n",
    "\n",
    "long_intervalo =estadistico_limsup-estadistico_liminf\n",
    "long_intervalo"
   ]
  },
  {
   "cell_type": "markdown",
   "metadata": {},
   "source": [
    "¿Cómo se relaciona este intervalo de confianza con el test de hipótesis?\n",
    "\n",
    "Este intervalo de confianza de nivel 0.95, sirve para confirmar o rechazar la hipotesis nula que se plantee en el test de hipótesis.\n",
    "\n",
    "Del intervalo de confianza de nivel 0.95 se deduce que la probabilidad de que el parámetro a estimar se ubique dentro de de los límites del intérvalo es del 95%, y solo en un 5% de casos el parámetro quedará por fuera del intervalo"
   ]
  },
  {
   "cell_type": "markdown",
   "metadata": {
    "id": "IFi2T7Y6nM92"
   },
   "source": [
    "## Ejercicio 2: Test de hipótesis\n"
   ]
  },
  {
   "cell_type": "markdown",
   "metadata": {
    "id": "Rzxe8UYU6EfJ"
   },
   "source": [
    "\n",
    "### 2.1 Formalización\n",
    "\n",
    "Describir formalmente los distintos componentes de un test de hipótesis para comprobar si la distribución de los salarios es distinta entre los grupos A y B.\n",
    "\n",
    "**Hipótesis Nula**\n",
    "\n",
    "$H_0=...$\n",
    "\n",
    "**Estadístico (Pivote)**\n",
    "  * Identificar el estadístico\n",
    "  * Escribir qué distribución tiene bajo $H_0$\n"
   ]
  },
  {
   "cell_type": "markdown",
   "metadata": {},
   "source": [
    "**Hipótesis nula (H 0 ) : u A = u B,** \"Las medias de los salarios entre los grupos A y B son iguales\"\n",
    "\n",
    "**Hipótesis alternativa (H A ) : u A ≠ u B** \"Las medias de los salarios entre los grupos A y B no son iguales\""
   ]
  },
  {
   "cell_type": "markdown",
   "metadata": {},
   "source": [
    "El estadistico a utilizar dependera de la homogeneidad de varianzas, también conocido como supuesto de homocedasticidad, que considera \n",
    "que la varianza es constante (no varía) entre diferentes grupos(A y B). Cuando la condición de homocedasticidad no se cumple, se \n",
    "utiliza el término heterocedasticidad.\n",
    "  \n",
    "\n",
    "Existen diferentes test que permiten evaluar si las observaciones proceden de poblaciones con la misma varianza. Todos ellos consideran\n",
    "como hipótesis nula que la varianza es igual entre los grupos y como hipótesis alternativa que no lo es. La diferencia entre ellos es el\n",
    "estadístico de centralidad que utilizan:\n",
    "​\n",
    "\n",
    "- Los test que utilizan la media de la varianza son los que mayor poder estadístico consiguen cuando los datos siguen distribuciones normales.\n",
    "- Los test que utilizan la mediana de la varianza consiguen mejores resultados cuando los datos siguen distribuciones asimétricas o se alejan \n",
    "de la normalidad.\n",
    "​\n",
    "\n",
    "Si no se puede alcanzar cierta seguridad de que las poblaciones que se comparan son de tipo normal, es recomendable recurrir a tests que comparen\n",
    "la mediana de la varianza.\n",
    "​\n",
    "\n",
    "En primer lugar se procederá a aplicar el test de Levene, el test de Bartlett y el test de Fligner-Killeen  para determinar la homocedasticidad de\n",
    "las varianzas de los grupos A y B.\n",
    "\n",
    "#### Contraste de hipótesis\n",
    "\n",
    "El test de Levene, el test de Bartlett y el test de Fligner-Killeen son tres de los test de hipótesis más empleados comparar la varianza entre grupos. \n",
    "En todos ellos, se considera como hipótesis nula que los datos proceden de distribuciones con la misma varianza (homocedasticidad). Por lo tanto, si \n",
    "el p-value es menor que un determinado valor (típicamente 0.05), entonces se considera que hay evidencias suficientes para rechazar la homocedasticidad\n",
    "en favor de la heterocedasticidad.\n",
    "​\n",
    "\n",
    "El test de Levene y el test de Fligner-Killeen (este último no paramétrico) son más robustos que el test de Bartlett ante la falta de normalidad, por\n",
    "lo que suele aconsejarse su uso. Además, tanto el test de Levene como el de Bartlett permiten elegir entre diferentes estadísticos de centralidad: \n",
    "mediana (por defecto), media, media truncada. Esto es importante a la hora de contrastar la homocedasticidad dependiendo de si los grupos se distribuyen\n",
    "de forma normal o no.\n",
    "​\n",
    "\n",
    "Si se tiene seguridad de que las muestras a comparar proceden de poblaciones que siguen una distribución normal, es recomendable el test de Bartlett. \n",
    "Si no se tiene la seguridad de que las poblaciones de origen son normales, se recomiendan el test de Leven utilizando la mediana o el test no paramétrico\n",
    "Fligner-Killeen que también se basa en la mediana.\n",
    "  "
   ]
  },
  {
   "cell_type": "code",
   "execution_count": 21,
   "metadata": {},
   "outputs": [
    {
     "name": "stdout",
     "output_type": "stream",
     "text": [
      "LeveneResult(statistic=19.749409346239027, pvalue=9.185052682463106e-06)\n"
     ]
    }
   ],
   "source": [
    "# Levene test\n",
    "\n",
    "levene_test = stats.levene(muestra_grupoA, muestra_grupoB, center='median')\n",
    "print(levene_test)"
   ]
  },
  {
   "cell_type": "code",
   "execution_count": 22,
   "metadata": {},
   "outputs": [
    {
     "name": "stdout",
     "output_type": "stream",
     "text": [
      "BartlettResult(statistic=283.3834566379278, pvalue=1.3749845933222563e-63)\n"
     ]
    }
   ],
   "source": [
    "# Bartlett test\n",
    "\n",
    "bartlett_test = stats.bartlett(muestra_grupoA, muestra_grupoB)\n",
    "print(bartlett_test)"
   ]
  },
  {
   "cell_type": "code",
   "execution_count": 24,
   "metadata": {},
   "outputs": [
    {
     "name": "stdout",
     "output_type": "stream",
     "text": [
      "FlignerResult(statistic=30.561369532604225, pvalue=3.2347068473105065e-08)\n"
     ]
    }
   ],
   "source": [
    "# Fligner test\n",
    "\n",
    "fligner_test = stats.fligner(muestra_grupoA, muestra_grupoB, center='median')\n",
    "print(fligner_test)"
   ]
  },
  {
   "cell_type": "markdown",
   "metadata": {},
   "source": [
    "Todos  los test muestran evidencias para rechazar la hipótesis de que los dos grupos tienen la misma varianza, homocedasticidad. p-value < 0.05.\n",
    "\n",
    "Por lo tanto el estadístico adecuado para la prueba de hipótesis de las diferencias de Medias es t de Welch."
   ]
  },
  {
   "cell_type": "markdown",
   "metadata": {
    "id": "3Ip_5YdenC8u"
   },
   "source": [
    "### 2.2 P-valor\n",
    "\n",
    "1. Calcule el p-valor y decida si rechazar o no la hipótesis nula.\n",
    "2. Interprete el resultado.\n",
    "\n",
    "Links útiles:\n",
    "* [Test de hipótesis usando scipy](https://docs.scipy.org/doc/scipy/reference/generated/scipy.stats.ttest_ind.html)\n",
    "* [Test de Welch](http://daniellakens.blogspot.com/2015/01/always-use-welchs-t-test-instead-of.html)"
   ]
  },
  {
   "cell_type": "markdown",
   "metadata": {},
   "source": [
    "Como se indico anteriormente se utilizará la prueba t de Welch de forma predeterminada, ya que funciona mejor que la prueba t de Student siempre que los tamaños de muestra y las varianzas sean desiguales entre los grupos, y da el mismo resultado cuando los tamaños de muestra y las varianzas son iguales"
   ]
  },
  {
   "cell_type": "markdown",
   "metadata": {},
   "source": [
    "**Prueba t de Welch**\n",
    "\n",
    "La prueba t de Welch es una prueba univariante no paramétrica que prueba una diferencia significativa entre la media de dos grupos no relacionados. \n",
    "\n",
    "Es una alternativa a la prueba t de Student cuando se viola el supuesto de igualdad de varianzas."
   ]
  },
  {
   "cell_type": "markdown",
   "metadata": {},
   "source": [
    "**SUPUESTOS DE LA PRUEBA T DE WELCH**\n",
    "\n",
    "Como toda prueba, esta prueba de estadística inferencial tiene suposiciones. \n",
    "\n",
    "Los supuestos que deben cumplir los datos para que los resultados de la prueba sean válidos son:"
   ]
  },
  {
   "cell_type": "markdown",
   "metadata": {},
   "source": [
    "- La variable independiente  es categórica con al menos dos niveles (grupos A y B)\n",
    "\n",
    "- La variable dependiente  es continua y se mide en una escala de intervalo o razón (salario)\n",
    "\n",
    "- La distribución de los dos grupos debe seguir la distribución normal. (Se suponen distribuciones normales)\n",
    "\n",
    "- Para realizar una prueba t de Welch, se necesita usar el método stats.ttest_ind() mientras se pasa \"False\" en el argumento \"equal_var=\"."
   ]
  },
  {
   "cell_type": "code",
   "execution_count": 25,
   "metadata": {},
   "outputs": [
    {
     "name": "stdout",
     "output_type": "stream",
     "text": [
      "Ttest_indResult(statistic=7.425536061856788, pvalue=1.6015847846963576e-13)\n"
     ]
    }
   ],
   "source": [
    "welch_test = stats.ttest_ind(muestra_grupoA, muestra_grupoB,nan_policy='omit', equal_var = False)\n",
    "print(welch_test)"
   ]
  },
  {
   "cell_type": "markdown",
   "metadata": {
    "id": "8VxiQr5YrQYR"
   },
   "source": [
    "### [Opcional] 2.3 Potencia del test\n",
    "\n",
    "Nuestra muestra, ¿era lo suficientemente grande para detectar si existe o no una diferencia entre los grupos?\n",
    "\n",
    "1. Utilice la función `tt_ind_solve_power` para calcular el tamaño necesario de la muestra para un poder estadístico de 0.8, 0.9 y 0.95, asumiendo una significancia estadística de 0.05.\n",
    "2. ¿Cómo intepretan el poder estadístico de un test? Dado su conocimiento de dominio sobre los datos, ¿les parece que esta muestra es lo suficientemente grande para ser representativo de la tendencia general? ¿y para utilizarlo en un juicio penal contra una empresa XX por una causa de discriminación?\n",
    "\n",
    "[Documentación](https://www.statsmodels.org/stable/generated/statsmodels.stats.power.tt_ind_solve_power.html)\n",
    "\n",
    "NOTA: este análisis debería hacerse ANTES de recolectar los datos."
   ]
  },
  {
   "cell_type": "code",
   "execution_count": 26,
   "metadata": {
    "colab": {
     "base_uri": "https://localhost:8080/"
    },
    "id": "_IiqGfo4t6Db",
    "outputId": "30acabed-46e2-476d-ec27-fec5823af98c"
   },
   "outputs": [],
   "source": [
    "from statsmodels.stats.power import tt_ind_solve_power"
   ]
  },
  {
   "cell_type": "code",
   "execution_count": 27,
   "metadata": {
    "id": "LUQ7MA2Apj9x"
   },
   "outputs": [],
   "source": [
    "effect_size = (groupA.mean() - groupB.mean()) / groupB.std()\n",
    "# nobs1=None  - What we want to know\n",
    "alpha = 0.05\n",
    "ratio = len(groupB) / len(groupA)"
   ]
  },
  {
   "cell_type": "code",
   "execution_count": null,
   "metadata": {
    "colab": {
     "base_uri": "https://localhost:8080/"
    },
    "id": "cvHcpY-3ty8Q",
    "outputId": "52cc1464-e94b-45df-9610-0592399001b9"
   },
   "outputs": [],
   "source": [
    "tt_ind_solve_power(effect_size=effect_size, alpha=alpha, power=power, ratio=ratio)"
   ]
  },
  {
   "cell_type": "markdown",
   "metadata": {
    "id": "useKMdPyMod5"
   },
   "source": [
    "## Ejercicio 3: Comunicación y visualización\n",
    "\n",
    "**Consigna:** Seleccionen un resultado que les parezca relevante a partir de alguno de los ejercicios del entregable. Diseñe e implemente una comunicación en base a este mensaje, en un archivo PDF.\n",
    "\n",
    "Elija las palabras y visualización más adecuada para que la comunicación sea entendible, efectiva y se dapte a UNA de las siguientes situaciones:\n",
    "\n",
    "1. Una sección en un artículo de difusión a presentar como parte de una organización sin fines de lucro.\n",
    "No más de 1 página A4 (o dos si los gráficos son muy grandes).\n",
    "  1. Ejemplo: Alguna de las secciones [Los ecosistemas de emprendimiento de América Latina y el Caribe frente al COVID-19: Impactos, necesidades y recomendaciones](https://publications.iadb.org/es/los-ecosistemas-de-emprendimiento-de-america-latina-y-el-caribe-frente-al-covid-19-impactos-necesidades-y-recomendaciones), por ejemplo la sección *2.2. Reacciones de los emprendedores*.\n",
    "  2. Ejemplo: Alguna de las secciones de [The state of gender pay gap in 2021](https://www.payscale.com/data/gender-pay-gap?tk=carousel-ps-rc-job)\n",
    "  3. Puntos clave: \n",
    "    1. Simpleza de los gráficos.\n",
    "    2. Comunicación en lenguaje simple a personas que no son necesariamente expertos de dominio.\n",
    "    2. Selección de UNA oración sobre la que se hace énfasis.\n",
    "    3. No es necesario que mencionen objetivos ni descripciones del conjunto de datos, se supone que eso ya estaría explicado en otras secciones del informe.\n",
    "\n",
    "2. Una publicación científica o reporte técnico interno. No más de una página A4:\n",
    "  2. Ejemplo: La sección de resultados de [IZA DP No. 12914: The Impact of a Minimum Wage Change on the Distribution of Wages and Household Income](https://www.iza.org/publications/dp/12914/the-impact-of-a-minimum-wage-change-on-the-distribution-of-wages-and-household-income).\n",
    "  2. Ejemplo: Alguna de las secciones de [Temporary reduction in daily global CO2 emissions during the COVID-19 forced confinement](https://www.nature.com/articles/s41558-020-0797-x)\n",
    "  3. Puntos clave:\n",
    "    3. Nivel de detalle técnico requerido. Es necesario justificar la validez del análisis.\n",
    "    4. La idea presentada puede ser más compleja. Pueden asumir que la audiencia tiene conocimiento técnico y va a analizar las visualizaciones en detalle. \n",
    "    5. Pueden presentar más en detalle las limitaciones del análisis (significancia estadística, etc.)\n",
    "    2. No es necesario que mencionen objetivos ni descripciones del conjunto de datos, se supone que eso ya estaría explicado en otras secciones del informe.\n",
    "\n",
    "3. Un tweet (o post de LinkedIn) para la cuenta de su empresa consultora que hace análisis de datos. El objetivo es promocionar un análisis de datos abiertos que van a incluir en su portfolio:\n",
    "  1. Ejemplo: [Comparación vacunas covid](https://twitter.com/infobeautiful/status/1381577746527236098?s=20)\n",
    "  2. Ejemplo: [Tweet del BID](https://twitter.com/el_BID/status/1388508583944507396?s=20). Lo valioso de este tweet es que usaron un único número para transmitir un mensaje. Puede ser algo así, o con un gráfico muy simple.\n",
    "  3. Ejemplo: [Cambio climático](https://twitter.com/UNFCCC/status/1387732156190011394?s=20) Es un muy buen ejemplo, excepto que el gráfico no se lee nada y hay que entrar a la publicación original.\n",
    "  3. Ejemplo: [¿Cuánto están los programadores en las empresas?](https://www.linkedin.com/posts/denis-rothman-0b034043_tech-career-work-activity-6793861923269054464-gS6y) (No verificamos la veracidad o seriedad de la fuente).\n",
    "  4. Puntos clave:\n",
    "    1. Su audiencia no va a mirar la visualización por más de unos segundos, y no tiene conocimiento técnico.\n",
    "  3. Tienen que incluir además una *breve* descripción de cómo obtuvieron los datos que están presentando, que no entraría en el tweet.\n"
   ]
  }
 ],
 "metadata": {
  "interpreter": {
   "hash": "e7370f93d1d0cde622a1f8e1c04877d8463912d04d973331ad4851f04de6915a"
  },
  "kernelspec": {
   "display_name": "Python 3.10.2 64-bit",
   "language": "python",
   "name": "python3"
  },
  "language_info": {
   "codemirror_mode": {
    "name": "ipython",
    "version": 3
   },
   "file_extension": ".py",
   "mimetype": "text/x-python",
   "name": "python",
   "nbconvert_exporter": "python",
   "pygments_lexer": "ipython3",
   "version": "3.10.4"
  },
  "orig_nbformat": 4
 },
 "nbformat": 4,
 "nbformat_minor": 2
}
