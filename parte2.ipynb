{
 "cells": [
  {
   "cell_type": "markdown",
   "metadata": {},
   "source": [
    "\n",
    "**Diplomatura en Ciencia de Datos, Aprendizaje Automático y sus Aplicaciones**\n",
    "\n",
    "**Edición 2022**\n",
    "\n",
    "---\n",
    "\n",
    "# Trabajo práctico entregable - Parte 2"
   ]
  },
  {
   "cell_type": "code",
   "execution_count": 84,
   "metadata": {},
   "outputs": [],
   "source": [
    "import io\n",
    "import matplotlib\n",
    "import matplotlib.pyplot as plt\n",
    "import numpy\n",
    "import pandas as pd\n",
    "import seaborn\n",
    "import math\n",
    "import scipy as sp\n",
    "from scipy.stats import t\n",
    "import scipy.stats \n",
    "import numpy as np\n",
    "seaborn.set_context('talk')"
   ]
  },
  {
   "cell_type": "markdown",
   "metadata": {
    "id": "XY2Hl-Ma07Nn"
   },
   "source": [
    "## Lectura del dataset\n",
    "\n",
    "En la notebook 00 se explican los detalles de la siguiente sección."
   ]
  },
  {
   "cell_type": "code",
   "execution_count": 85,
   "metadata": {
    "id": "Vviv_sqXdR5W"
   },
   "outputs": [],
   "source": [
    "url = 'https://cs.famaf.unc.edu.ar/~mteruel/datasets/diplodatos/sysarmy_survey_2020_processed.csv'\n",
    "df = pd.read_csv(url)"
   ]
  },
  {
   "cell_type": "code",
   "execution_count": 86,
   "metadata": {
    "colab": {
     "base_uri": "https://localhost:8080/",
     "height": 297
    },
    "id": "gckNHXXLktJ4",
    "outputId": "8a359f96-42c3-442d-b73f-dbd453369435"
   },
   "outputs": [
    {
     "data": {
      "text/html": [
       "<div>\n",
       "<style scoped>\n",
       "    .dataframe tbody tr th:only-of-type {\n",
       "        vertical-align: middle;\n",
       "    }\n",
       "\n",
       "    .dataframe tbody tr th {\n",
       "        vertical-align: top;\n",
       "    }\n",
       "\n",
       "    .dataframe thead th {\n",
       "        text-align: right;\n",
       "    }\n",
       "</style>\n",
       "<table border=\"1\" class=\"dataframe\">\n",
       "  <thead>\n",
       "    <tr style=\"text-align: right;\">\n",
       "      <th></th>\n",
       "      <th>profile_gender</th>\n",
       "      <th>profile_age</th>\n",
       "      <th>work_country</th>\n",
       "      <th>work_province</th>\n",
       "      <th>profile_years_experience</th>\n",
       "      <th>work_years_in_company</th>\n",
       "      <th>work_years_in_current_position</th>\n",
       "      <th>work_people_in_charge_of</th>\n",
       "      <th>profile_studies_level</th>\n",
       "      <th>profile_studies_level_state</th>\n",
       "      <th>...</th>\n",
       "      <th>work_has_violence_situations</th>\n",
       "      <th>profile_sexual_orientation</th>\n",
       "      <th>profile_has_disabilities</th>\n",
       "      <th>profile_has_disabilities_hiring_difficulties</th>\n",
       "      <th>company_employee_number</th>\n",
       "      <th>company_main_activity</th>\n",
       "      <th>company_recommended</th>\n",
       "      <th>company_diversity_policies</th>\n",
       "      <th>company_extra_benefits</th>\n",
       "      <th>company_best_companies_city</th>\n",
       "    </tr>\n",
       "  </thead>\n",
       "  <tbody>\n",
       "    <tr>\n",
       "      <th>0</th>\n",
       "      <td>Mujer</td>\n",
       "      <td>26</td>\n",
       "      <td>Argentina</td>\n",
       "      <td>Ciudad Autónoma de Buenos Aires</td>\n",
       "      <td>3.0</td>\n",
       "      <td>3.0</td>\n",
       "      <td>3.0</td>\n",
       "      <td>0</td>\n",
       "      <td>Universitario</td>\n",
       "      <td>En curso</td>\n",
       "      <td>...</td>\n",
       "      <td>En mi trabajo actual</td>\n",
       "      <td>Homosexual</td>\n",
       "      <td>NaN</td>\n",
       "      <td>NaN</td>\n",
       "      <td>501-1000</td>\n",
       "      <td>Servicios / Consultoría de Software / Digital</td>\n",
       "      <td>7</td>\n",
       "      <td>2</td>\n",
       "      <td>Capacitaciones y/o cursos, Comidas pagas / sub...</td>\n",
       "      <td>NaN</td>\n",
       "    </tr>\n",
       "    <tr>\n",
       "      <th>1</th>\n",
       "      <td>Hombre</td>\n",
       "      <td>29</td>\n",
       "      <td>Argentina</td>\n",
       "      <td>Corrientes</td>\n",
       "      <td>5.0</td>\n",
       "      <td>2.0</td>\n",
       "      <td>2.0</td>\n",
       "      <td>4</td>\n",
       "      <td>Universitario</td>\n",
       "      <td>En curso</td>\n",
       "      <td>...</td>\n",
       "      <td>Jamás</td>\n",
       "      <td>Heterosexual</td>\n",
       "      <td>Visual</td>\n",
       "      <td>No</td>\n",
       "      <td>201-500</td>\n",
       "      <td>Otras industrias</td>\n",
       "      <td>8</td>\n",
       "      <td>9</td>\n",
       "      <td>Horarios flexibles, Stock options / RSUs, Viát...</td>\n",
       "      <td>NaN</td>\n",
       "    </tr>\n",
       "    <tr>\n",
       "      <th>2</th>\n",
       "      <td>Mujer</td>\n",
       "      <td>22</td>\n",
       "      <td>Argentina</td>\n",
       "      <td>Ciudad Autónoma de Buenos Aires</td>\n",
       "      <td>2.0</td>\n",
       "      <td>0.0</td>\n",
       "      <td>0.0</td>\n",
       "      <td>0</td>\n",
       "      <td>Secundario</td>\n",
       "      <td>Completado</td>\n",
       "      <td>...</td>\n",
       "      <td>En un trabajo anterior</td>\n",
       "      <td>Bisexual o queer</td>\n",
       "      <td>NaN</td>\n",
       "      <td>No</td>\n",
       "      <td>2001-5000</td>\n",
       "      <td>Otras industrias</td>\n",
       "      <td>6</td>\n",
       "      <td>9</td>\n",
       "      <td>Clases de gimnasia online, Comidas pagas / sub...</td>\n",
       "      <td>NaN</td>\n",
       "    </tr>\n",
       "  </tbody>\n",
       "</table>\n",
       "<p>3 rows × 48 columns</p>\n",
       "</div>"
      ],
      "text/plain": [
       "  profile_gender  profile_age work_country                    work_province  \\\n",
       "0          Mujer           26    Argentina  Ciudad Autónoma de Buenos Aires   \n",
       "1         Hombre           29    Argentina                       Corrientes   \n",
       "2          Mujer           22    Argentina  Ciudad Autónoma de Buenos Aires   \n",
       "\n",
       "   profile_years_experience  work_years_in_company  \\\n",
       "0                       3.0                    3.0   \n",
       "1                       5.0                    2.0   \n",
       "2                       2.0                    0.0   \n",
       "\n",
       "   work_years_in_current_position  work_people_in_charge_of  \\\n",
       "0                             3.0                         0   \n",
       "1                             2.0                         4   \n",
       "2                             0.0                         0   \n",
       "\n",
       "  profile_studies_level profile_studies_level_state  ...  \\\n",
       "0         Universitario                    En curso  ...   \n",
       "1         Universitario                    En curso  ...   \n",
       "2            Secundario                  Completado  ...   \n",
       "\n",
       "  work_has_violence_situations profile_sexual_orientation  \\\n",
       "0         En mi trabajo actual                 Homosexual   \n",
       "1                        Jamás               Heterosexual   \n",
       "2       En un trabajo anterior           Bisexual o queer   \n",
       "\n",
       "  profile_has_disabilities profile_has_disabilities_hiring_difficulties  \\\n",
       "0                      NaN                                          NaN   \n",
       "1                   Visual                                           No   \n",
       "2                      NaN                                           No   \n",
       "\n",
       "  company_employee_number                          company_main_activity  \\\n",
       "0                501-1000  Servicios / Consultoría de Software / Digital   \n",
       "1                 201-500                               Otras industrias   \n",
       "2               2001-5000                               Otras industrias   \n",
       "\n",
       "  company_recommended company_diversity_policies  \\\n",
       "0                   7                          2   \n",
       "1                   8                          9   \n",
       "2                   6                          9   \n",
       "\n",
       "                              company_extra_benefits  \\\n",
       "0  Capacitaciones y/o cursos, Comidas pagas / sub...   \n",
       "1  Horarios flexibles, Stock options / RSUs, Viát...   \n",
       "2  Clases de gimnasia online, Comidas pagas / sub...   \n",
       "\n",
       "  company_best_companies_city  \n",
       "0                         NaN  \n",
       "1                         NaN  \n",
       "2                         NaN  \n",
       "\n",
       "[3 rows x 48 columns]"
      ]
     },
     "execution_count": 86,
     "metadata": {},
     "output_type": "execute_result"
    }
   ],
   "source": [
    "df[:3]"
   ]
  },
  {
   "cell_type": "code",
   "execution_count": 87,
   "metadata": {
    "colab": {
     "base_uri": "https://localhost:8080/",
     "height": 203
    },
    "id": "2lzmzK1NuPNT",
    "outputId": "41e0e478-b95b-4dc4-a390-902bd50a8ce3"
   },
   "outputs": [
    {
     "data": {
      "text/html": [
       "<div>\n",
       "<style scoped>\n",
       "    .dataframe tbody tr th:only-of-type {\n",
       "        vertical-align: middle;\n",
       "    }\n",
       "\n",
       "    .dataframe tbody tr th {\n",
       "        vertical-align: top;\n",
       "    }\n",
       "\n",
       "    .dataframe thead tr th {\n",
       "        text-align: left;\n",
       "    }\n",
       "\n",
       "    .dataframe thead tr:last-of-type th {\n",
       "        text-align: right;\n",
       "    }\n",
       "</style>\n",
       "<table border=\"1\" class=\"dataframe\">\n",
       "  <thead>\n",
       "    <tr>\n",
       "      <th></th>\n",
       "      <th colspan=\"8\" halign=\"left\">salary_monthly_NETO</th>\n",
       "    </tr>\n",
       "    <tr>\n",
       "      <th></th>\n",
       "      <th>count</th>\n",
       "      <th>mean</th>\n",
       "      <th>std</th>\n",
       "      <th>min</th>\n",
       "      <th>25%</th>\n",
       "      <th>50%</th>\n",
       "      <th>75%</th>\n",
       "      <th>max</th>\n",
       "    </tr>\n",
       "    <tr>\n",
       "      <th>profile_gender</th>\n",
       "      <th></th>\n",
       "      <th></th>\n",
       "      <th></th>\n",
       "      <th></th>\n",
       "      <th></th>\n",
       "      <th></th>\n",
       "      <th></th>\n",
       "      <th></th>\n",
       "    </tr>\n",
       "  </thead>\n",
       "  <tbody>\n",
       "    <tr>\n",
       "      <th>Hombre</th>\n",
       "      <td>4944.0</td>\n",
       "      <td>98836.063558</td>\n",
       "      <td>102159.664237</td>\n",
       "      <td>1.0</td>\n",
       "      <td>53285.0</td>\n",
       "      <td>80000.0</td>\n",
       "      <td>110000.0</td>\n",
       "      <td>2080000.0</td>\n",
       "    </tr>\n",
       "    <tr>\n",
       "      <th>Mujer</th>\n",
       "      <td>908.0</td>\n",
       "      <td>73501.414465</td>\n",
       "      <td>56256.880181</td>\n",
       "      <td>2.0</td>\n",
       "      <td>43818.0</td>\n",
       "      <td>65000.0</td>\n",
       "      <td>92000.0</td>\n",
       "      <td>800000.0</td>\n",
       "    </tr>\n",
       "    <tr>\n",
       "      <th>Otros</th>\n",
       "      <td>31.0</td>\n",
       "      <td>95441.354839</td>\n",
       "      <td>88635.674358</td>\n",
       "      <td>40.0</td>\n",
       "      <td>39500.0</td>\n",
       "      <td>74000.0</td>\n",
       "      <td>117500.0</td>\n",
       "      <td>380000.0</td>\n",
       "    </tr>\n",
       "  </tbody>\n",
       "</table>\n",
       "</div>"
      ],
      "text/plain": [
       "               salary_monthly_NETO                                     \\\n",
       "                             count          mean            std   min   \n",
       "profile_gender                                                          \n",
       "Hombre                      4944.0  98836.063558  102159.664237   1.0   \n",
       "Mujer                        908.0  73501.414465   56256.880181   2.0   \n",
       "Otros                         31.0  95441.354839   88635.674358  40.0   \n",
       "\n",
       "                                                       \n",
       "                    25%      50%       75%        max  \n",
       "profile_gender                                         \n",
       "Hombre          53285.0  80000.0  110000.0  2080000.0  \n",
       "Mujer           43818.0  65000.0   92000.0   800000.0  \n",
       "Otros           39500.0  74000.0  117500.0   380000.0  "
      ]
     },
     "execution_count": 87,
     "metadata": {},
     "output_type": "execute_result"
    }
   ],
   "source": [
    "df[['profile_gender', 'salary_monthly_NETO']].groupby('profile_gender').describe()"
   ]
  },
  {
   "cell_type": "code",
   "execution_count": 88,
   "metadata": {
    "colab": {
     "base_uri": "https://localhost:8080/",
     "height": 203
    },
    "id": "pycKJ5jWkShW",
    "outputId": "39835943-cb56-417f-cac7-d7068b0d12f9"
   },
   "outputs": [
    {
     "data": {
      "text/html": [
       "<div>\n",
       "<style scoped>\n",
       "    .dataframe tbody tr th:only-of-type {\n",
       "        vertical-align: middle;\n",
       "    }\n",
       "\n",
       "    .dataframe tbody tr th {\n",
       "        vertical-align: top;\n",
       "    }\n",
       "\n",
       "    .dataframe thead tr th {\n",
       "        text-align: left;\n",
       "    }\n",
       "\n",
       "    .dataframe thead tr:last-of-type th {\n",
       "        text-align: right;\n",
       "    }\n",
       "</style>\n",
       "<table border=\"1\" class=\"dataframe\">\n",
       "  <thead>\n",
       "    <tr>\n",
       "      <th></th>\n",
       "      <th colspan=\"8\" halign=\"left\">salary_monthly_NETO</th>\n",
       "    </tr>\n",
       "    <tr>\n",
       "      <th></th>\n",
       "      <th>count</th>\n",
       "      <th>mean</th>\n",
       "      <th>std</th>\n",
       "      <th>min</th>\n",
       "      <th>25%</th>\n",
       "      <th>50%</th>\n",
       "      <th>75%</th>\n",
       "      <th>max</th>\n",
       "    </tr>\n",
       "    <tr>\n",
       "      <th>profile_gender</th>\n",
       "      <th></th>\n",
       "      <th></th>\n",
       "      <th></th>\n",
       "      <th></th>\n",
       "      <th></th>\n",
       "      <th></th>\n",
       "      <th></th>\n",
       "      <th></th>\n",
       "    </tr>\n",
       "  </thead>\n",
       "  <tbody>\n",
       "    <tr>\n",
       "      <th>Hombre</th>\n",
       "      <td>4815.0</td>\n",
       "      <td>101481.624343</td>\n",
       "      <td>102215.304684</td>\n",
       "      <td>1100.0</td>\n",
       "      <td>55000.0</td>\n",
       "      <td>80000.0</td>\n",
       "      <td>110000.0</td>\n",
       "      <td>2080000.0</td>\n",
       "    </tr>\n",
       "    <tr>\n",
       "      <th>Mujer</th>\n",
       "      <td>863.0</td>\n",
       "      <td>77328.913778</td>\n",
       "      <td>55082.760570</td>\n",
       "      <td>2000.0</td>\n",
       "      <td>47850.0</td>\n",
       "      <td>67200.0</td>\n",
       "      <td>93000.0</td>\n",
       "      <td>800000.0</td>\n",
       "    </tr>\n",
       "    <tr>\n",
       "      <th>Otros</th>\n",
       "      <td>28.0</td>\n",
       "      <td>105660.714286</td>\n",
       "      <td>87235.710235</td>\n",
       "      <td>34000.0</td>\n",
       "      <td>43750.0</td>\n",
       "      <td>78900.0</td>\n",
       "      <td>122750.0</td>\n",
       "      <td>380000.0</td>\n",
       "    </tr>\n",
       "  </tbody>\n",
       "</table>\n",
       "</div>"
      ],
      "text/plain": [
       "               salary_monthly_NETO                                         \\\n",
       "                             count           mean            std      min   \n",
       "profile_gender                                                              \n",
       "Hombre                      4815.0  101481.624343  102215.304684   1100.0   \n",
       "Mujer                        863.0   77328.913778   55082.760570   2000.0   \n",
       "Otros                         28.0  105660.714286   87235.710235  34000.0   \n",
       "\n",
       "                                                       \n",
       "                    25%      50%       75%        max  \n",
       "profile_gender                                         \n",
       "Hombre          55000.0  80000.0  110000.0  2080000.0  \n",
       "Mujer           47850.0  67200.0   93000.0   800000.0  \n",
       "Otros           43750.0  78900.0  122750.0   380000.0  "
      ]
     },
     "execution_count": 88,
     "metadata": {},
     "output_type": "execute_result"
    }
   ],
   "source": [
    "df[df.salary_monthly_NETO > 1000]\\\n",
    "  [['profile_gender', 'salary_monthly_NETO']].groupby('profile_gender').describe()"
   ]
  },
  {
   "cell_type": "code",
   "execution_count": 89,
   "metadata": {
    "id": "uZ1GxkLylHx0"
   },
   "outputs": [],
   "source": [
    "alpha = 0.05"
   ]
  },
  {
   "cell_type": "code",
   "execution_count": 90,
   "metadata": {
    "id": "OfzFpDO-lYxk"
   },
   "outputs": [],
   "source": [
    "is_man = df.profile_gender == 'Hombre'\n",
    "\n",
    "groupA = df[(df.salary_monthly_NETO > 1000) & is_man].salary_monthly_NETO\n",
    "groupB = df[(df.salary_monthly_NETO > 1000) & ~is_man].salary_monthly_NETO"
   ]
  },
  {
   "cell_type": "markdown",
   "metadata": {
    "id": "co_0M_ojtmUh"
   },
   "source": [
    "## Ejercicio 1: Estimación\n",
    "\n",
    "**Consigna:**  Calcular una estimación puntual y un intervalo de confianza de nivel (1-alpha) para la resta entre la media del salario Neto para Hombres menos la media del salario Neto para otros géneros(diferencia de las medias entre el grupoA y grupoB). \n",
    "¿Cómo se relaciona este intervalo de confianza con el test de hipótesis?"
   ]
  },
  {
   "cell_type": "markdown",
   "metadata": {},
   "source": [
    "### Solución\n",
    "\n",
    "El parámetro a estimar es la diferencia de medias. Se calculan las medias de los dos grupos de variables y\n",
    "luego se efectua la resta\n",
    "\n",
    "Suponiendo que las muestras empleados en este análisis, muestra aleatoria $X=(X_{1}, X_{2}, \\ldots, X_{n})$ con $n=\\text{tamaño de la muestra 1}$ y muestra aleatoria $Y=(Y_{1}, Y_{2}, \\ldots, Y_{m})$ con $m=\\text{tamaño de la muestra 2}$ corresponden a distribuciones normales, procedemos a determinar los coeficientes que las caracterizan (medias muestrales y desviaciones estándar, también se determinan los tamaños de las muestras). "
   ]
  },
  {
   "cell_type": "code",
   "execution_count": 91,
   "metadata": {
    "id": "0fA1RQ0upe6N"
   },
   "outputs": [
    {
     "name": "stdout",
     "output_type": "stream",
     "text": [
      "La media del grupo de varones es  101481.62434267912\n",
      "La media del grupo de otros generos es  78219.25094276095\n",
      "La desviación estandar del grupo de varones es  102215.30468444867\n",
      "La desviación estandar del grupo de otros generos es  56515.32732350074\n",
      "El número de muestras del grupo de varones es  4815\n",
      "El número de muestras del grupo de otros generos es  891\n",
      "El error estandar del grupo de varones es  1473.050995045699\n",
      "El error estandar del grupo de otros generos es  1893.3347033956811\n"
     ]
    }
   ],
   "source": [
    "media_A = groupA.mean()\n",
    "media_B = groupB.mean()\n",
    "std_A = groupA.std()\n",
    "std_B = groupB.std()\n",
    "N_a = len(groupA)\n",
    "N_b = len(groupB)\n",
    "error_std_A = std_A/math.sqrt(N_a)\n",
    "error_std_B = std_B/math.sqrt(N_b)\n",
    "print('La media del grupo de varones es ', media_A)\n",
    "print('La media del grupo de otros generos es ', media_B)\n",
    "print('La desviación estandar del grupo de varones es ', std_A)\n",
    "print('La desviación estandar del grupo de otros generos es ', std_B)\n",
    "print('El número de muestras del grupo de varones es ', N_a)\n",
    "print('El número de muestras del grupo de otros generos es ', N_b)\n",
    "print('El error estandar del grupo de varones es ', error_std_A)\n",
    "print('El error estandar del grupo de otros generos es ', error_std_B)\n"
   ]
  },
  {
   "cell_type": "markdown",
   "metadata": {},
   "source": [
    "Como se observa, las dos muestras tienen medias, tamaños y desviaciones estándar diferentes. Esta información resultará relevante para la determinación del la estimación por intervalos.\n",
    "A continuación se procede a calcular la estimación paramétrica puntual utiliando el test de Welch. Teniendo en cuenta la consigna, ésta corresponde a la diferencia de las medias de las muestras aleatorios objeto de análisis."
   ]
  },
  {
   "cell_type": "code",
   "execution_count": 103,
   "metadata": {},
   "outputs": [
    {
     "name": "stdout",
     "output_type": "stream",
     "text": [
      "El estimador para la diferencia de medias es 23262.37339991817\n"
     ]
    }
   ],
   "source": [
    "est_dif_medias = media_A - media_B\n",
    "print('El estimador para la diferencia de medias es', est_dif_medias)"
   ]
  },
  {
   "cell_type": "markdown",
   "metadata": {},
   "source": [
    "A continuación se desarrolla la segunda parte de la consigna, un estimador por intervalos, específicamente un intervalo de confianza para la diferencia de medias muestrales. Como se mencionó, en el caso objeto de estudio las muestras $X\\approx N(\\mu_{1},\\pmb{\\sigma_{1}}^{2})$ e $Y\\approx N(\\mu_{2},\\pmb{\\pmb{\\sigma}_{2}}^{2})$ se cumple que $\\pmb{\\sigma}_{1}\\neq\\pmb{\\sigma}_{2}$, esto implica que para la determinación del estadístico se deberá emplear el Método de Welch. Esta último emplea una distribución t de sudent y el cálculo de los estadísticos que determinan los límites del intervalos de confianza implica conocer los grados de libertad de la distribución mencionada. En las siguientes lineas se calcula el estadístico y los grados de libertad de la distribución t de student para las muestras analizadas."
   ]
  },
  {
   "cell_type": "code",
   "execution_count": 104,
   "metadata": {},
   "outputs": [
    {
     "name": "stdout",
     "output_type": "stream",
     "text": [
      "El estadistico de prueba para el test de Welch es  9.697205976350673\n",
      "El numero de grados de libertad de t-student para el test de Welch es 2148.0505828160863\n"
     ]
    }
   ],
   "source": [
    "tmp = (media_A-media_B)/math.sqrt(error_std_A**2+error_std_B**2)\n",
    "nu = ((std_A**2/N_a + std_B**2/N_b)**2)/(std_A**4/(N_a**2*(N_a-1))+std_B**4/(N_b**2*(N_b-1)))\n",
    "print('El estadistico de prueba para el test de Welch es ', tmp)\n",
    "print ('El numero de grados de libertad de t-student para el test de Welch es', nu)"
   ]
  },
  {
   "cell_type": "markdown",
   "metadata": {},
   "source": [
    "Con un numero de grados de libertad tan grande, la distribución de t-student ya es una normal, por lo que se ustiliza este estadistico para una distribución normal. El valor de $t_{\\frac{\\alpha}{2},\\nu-1}\\sim z_{\\frac{\\alpha}{2}}$ para los valores $\\alpha=0.05$, $\\nu\\sim2148$ esta dado por $z_{\\frac{\\alpha}{2}} = 1.96$, por lo que el intervalo de confianza estará dado por \n",
    "$(\\bar{X}-\\bar{Y})\\pm1.96\\sqrt(s_{\\bar{X_1}^2}+s_{\\bar{X_2}}^2)$"
   ]
  },
  {
   "cell_type": "code",
   "execution_count": 93,
   "metadata": {},
   "outputs": [
    {
     "name": "stdout",
     "output_type": "stream",
     "text": [
      "El intervalo de confianza 1-alpha es ( 18560.580741802645 , 27964.166058033697 )\n"
     ]
    }
   ],
   "source": [
    "IC_min = est_dif_medias - 1.96*math.sqrt(error_std_A**2+error_std_B**2)\n",
    "IC_max = est_dif_medias + 1.96*math.sqrt(error_std_A**2+error_std_B**2)\n",
    "print('El intervalo de confianza 1-alpha es (',IC_min,',',IC_max,')')"
   ]
  },
  {
   "cell_type": "markdown",
   "metadata": {},
   "source": [
    "Teniendo en cuenta que se definió un nivel de significancia del 5% la $\\underbrace{P}_{\\text{Probabilidad}}\\big((\\theta_{1}-\\theta_{2})\\in(\\hat{\\theta}_{1}-\\hat{\\theta}_{2})\\big)=1-\\alpha=1-0.05=0.95$. Esto implicará que en el 95% de las realizaciones la diferencia de la media poblacional estará contenido en el intervalo encontrado."
   ]
  },
  {
   "cell_type": "markdown",
   "metadata": {},
   "source": [
    "A continuación, se utiliza scipy.stats para encontrar los $t_{\\alpha,\\nu-1}$ de la distribución t-student para calcular el intervalo de confianza y comparamos con los resultados obtenidos para una distribución normal"
   ]
  },
  {
   "cell_type": "code",
   "execution_count": 94,
   "metadata": {},
   "outputs": [
    {
     "name": "stdout",
     "output_type": "stream",
     "text": [
      "El valor del parametro t-student es  1.9610694947675884\n",
      "El intervalo de confianza 1-alpha es ( 18558.01515881992 , 27966.731641016424 )\n"
     ]
    }
   ],
   "source": [
    "t_crit = np.abs(t.ppf(alpha/2,nu-1)) #este es el t_alpha,nu-1 de student \n",
    "print ('El valor del parametro t-student es ', t_crit)\n",
    "IC_min_t = est_dif_medias - t_crit*math.sqrt(error_std_A**2+error_std_B**2)\n",
    "IC_max_t = est_dif_medias + t_crit*math.sqrt(error_std_A**2+error_std_B**2)\n",
    "print('El intervalo de confianza 1-alpha es (',IC_min_t,',',IC_max_t,')')"
   ]
  },
  {
   "cell_type": "markdown",
   "metadata": {},
   "source": [
    "Observemos que, debido a que el numero de grados de libertad es tan grande, el valor del parametro de t-student es 1.96 aproximadamente y que el intervalo de confianza es practicamente indistinguible del calculado para una distribucion normal."
   ]
  },
  {
   "cell_type": "code",
   "execution_count": 95,
   "metadata": {},
   "outputs": [
    {
     "data": {
      "text/plain": [
       "Ttest_indResult(statistic=9.697205976350673, pvalue=4.302598661066604e-22)"
      ]
     },
     "execution_count": 95,
     "metadata": {},
     "output_type": "execute_result"
    }
   ],
   "source": [
    "sp.stats.ttest_ind(groupA, groupB, equal_var=False, nan_policy='propagate', permutations=None, random_state=None, alternative='greater', trim=0)"
   ]
  },
  {
   "cell_type": "markdown",
   "metadata": {
    "id": "IFi2T7Y6nM92"
   },
   "source": [
    "## Ejercicio 2: Test de hipótesis\n"
   ]
  },
  {
   "cell_type": "markdown",
   "metadata": {
    "id": "Rzxe8UYU6EfJ"
   },
   "source": [
    "\n",
    "### 2.1 Formalización\n",
    "\n",
    "Describir formalmente los distintos componentes de un test de hipótesis para comprobar si la distribución de los salarios es distinta entre los grupos A y B.\n",
    "\n",
    "**Hipótesis Nula**\n",
    "\n",
    "$H_0=...$\n",
    "\n",
    "**Estadístico (Pivote)**\n",
    "  * Identificar el estadístico\n",
    "  * Escribir qué distribución tiene bajo $H_0$\n"
   ]
  },
  {
   "cell_type": "markdown",
   "metadata": {},
   "source": [
    "La hipótesis nula sera que la diferencia de medias entre ambos grupos es cero, es decir $H_0:\\mu_A-\\mu_B=0$, y la hipótesis alternativa sera que $H_a:\\mu_A-\\mu_B>0$. Nuestro estadístico de prueba (pivote) estará dado por \n",
    "$$\n",
    "T=\\frac{\\bar{X}-\\bar{Y}}{\\sqrt{s_{\\bar{X}^2}+s_{\\bar{Y}^2}}}\n",
    "$$ \n",
    "que tiene distribución normal con media $\\mu=0$ y desviación estandar $\\sigma^2=1$ bajo $H_0$"
   ]
  },
  {
   "cell_type": "markdown",
   "metadata": {},
   "source": [
    "El estadistico a utilizar dependera de la homogeneidad de varianzas, también conocido como supuesto de homocedasticidad, que considera \n",
    "que la varianza es constante (no varía) entre diferentes grupos(A y B). Cuando la condición de homocedasticidad no se cumple, se \n",
    "utiliza el término heterocedasticidad.\n",
    "  \n",
    "\n",
    "Existen diferentes test que permiten evaluar si las observaciones proceden de poblaciones con la misma varianza. Todos ellos consideran\n",
    "como hipótesis nula que la varianza es igual entre los grupos y como hipótesis alternativa que no lo es. La diferencia entre ellos es el\n",
    "estadístico de centralidad que utilizan:\n",
    "​\n",
    "\n",
    "- Los test que utilizan la media de la varianza son los que mayor poder estadístico consiguen cuando los datos siguen distribuciones normales.\n",
    "- Los test que utilizan la mediana de la varianza consiguen mejores resultados cuando los datos siguen distribuciones asimétricas o se alejan \n",
    "de la normalidad.\n",
    "​\n",
    "\n",
    "Si no se puede alcanzar cierta seguridad de que las poblaciones que se comparan son de tipo normal, es recomendable recurrir a tests que comparen\n",
    "la mediana de la varianza.\n",
    "​\n",
    "\n",
    "En primer lugar se procederá a aplicar el test de Levene, el test de Bartlett y el test de Fligner-Killeen  para determinar la homocedasticidad de\n",
    "las varianzas de los grupos A y B.\n",
    "\n",
    "#### Contraste de hipótesis\n",
    "\n",
    "El test de Levene, el test de Bartlett y el test de Fligner-Killeen son tres de los test de hipótesis más empleados comparar la varianza entre grupos. \n",
    "En todos ellos, se considera como hipótesis nula que los datos proceden de distribuciones con la misma varianza (homocedasticidad). Por lo tanto, si \n",
    "el p-value es menor que un determinado valor (típicamente 0.05), entonces se considera que hay evidencias suficientes para rechazar la homocedasticidad\n",
    "en favor de la heterocedasticidad.\n",
    "​\n",
    "\n",
    "El test de Levene y el test de Fligner-Killeen (este último no paramétrico) son más robustos que el test de Bartlett ante la falta de normalidad, por\n",
    "lo que suele aconsejarse su uso. Además, tanto el test de Levene como el de Bartlett permiten elegir entre diferentes estadísticos de centralidad: \n",
    "mediana (por defecto), media, media truncada. Esto es importante a la hora de contrastar la homocedasticidad dependiendo de si los grupos se distribuyen\n",
    "de forma normal o no.\n",
    "​\n",
    "\n",
    "Si se tiene seguridad de que las muestras a comparar proceden de poblaciones que siguen una distribución normal, es recomendable el test de Bartlett. \n",
    "Si no se tiene la seguridad de que las poblaciones de origen son normales, se recomiendan el test de Leven utilizando la mediana o el test no paramétrico\n",
    "Fligner-Killeen que también se basa en la mediana.\n",
    "  "
   ]
  },
  {
   "cell_type": "code",
   "execution_count": 96,
   "metadata": {},
   "outputs": [
    {
     "name": "stdout",
     "output_type": "stream",
     "text": [
      "LeveneResult(statistic=23.431491665834244, pvalue=1.3285372646647198e-06)\n"
     ]
    }
   ],
   "source": [
    "# Levene test\n",
    "\n",
    "levene_test = scipy.stats.levene(groupA, groupB, center='median')\n",
    "print(levene_test)"
   ]
  },
  {
   "cell_type": "code",
   "execution_count": 97,
   "metadata": {},
   "outputs": [
    {
     "name": "stdout",
     "output_type": "stream",
     "text": [
      "BartlettResult(statistic=400.59294156185115, pvalue=4.091277759372536e-89)\n"
     ]
    }
   ],
   "source": [
    "# Bartlett test\n",
    "\n",
    "bartlett_test = scipy.stats.bartlett(groupA, groupB)\n",
    "print(bartlett_test)"
   ]
  },
  {
   "cell_type": "code",
   "execution_count": 98,
   "metadata": {},
   "outputs": [
    {
     "name": "stdout",
     "output_type": "stream",
     "text": [
      "FlignerResult(statistic=38.31314850126406, pvalue=6.025528086005236e-10)\n"
     ]
    }
   ],
   "source": [
    "# Fligner test\n",
    "\n",
    "fligner_test = scipy.stats.fligner(groupA, groupB, center='median')\n",
    "print(fligner_test)"
   ]
  },
  {
   "cell_type": "markdown",
   "metadata": {},
   "source": [
    "Todos  los test muestran evidencias para rechazar la hipótesis de que los dos grupos tienen la misma varianza, homocedasticidad. p-value < 0.05.\n",
    "\n",
    "Por lo tanto el estadístico adecuado para la prueba de hipótesis de las diferencias de Medias es t de Welch."
   ]
  },
  {
   "cell_type": "markdown",
   "metadata": {
    "id": "3Ip_5YdenC8u"
   },
   "source": [
    "### 2.2 P-valor\n",
    "\n",
    "1. Calcule el p-valor y decida si rechazar o no la hipótesis nula.\n",
    "2. Interprete el resultado.\n",
    "\n",
    "Links útiles:\n",
    "* [Test de hipótesis usando scipy](https://docs.scipy.org/doc/scipy/reference/generated/scipy.stats.ttest_ind.html)\n",
    "* [Test de Welch](http://daniellakens.blogspot.com/2015/01/always-use-welchs-t-test-instead-of.html)"
   ]
  },
  {
   "cell_type": "markdown",
   "metadata": {},
   "source": [
    "Como se indico anteriormente se utilizará la prueba t de Welch de forma predeterminada, ya que funciona mejor que la prueba t de Student siempre que los tamaños de muestra y las varianzas sean desiguales entre los grupos, y da el mismo resultado cuando los tamaños de muestra y las varianzas son iguales"
   ]
  },
  {
   "cell_type": "markdown",
   "metadata": {},
   "source": [
    "**Prueba t de Welch**\n",
    "\n",
    "La prueba t de Welch es una prueba univariante no paramétrica que prueba una diferencia significativa entre la media de dos grupos no relacionados. \n",
    "\n",
    "Es una alternativa a la prueba t de Student cuando se viola el supuesto de igualdad de varianzas."
   ]
  },
  {
   "cell_type": "markdown",
   "metadata": {},
   "source": [
    "**Supuestos de la prueba de t de welch**\n",
    "\n",
    "Como toda prueba, esta prueba de estadística inferencial tiene suposiciones. Los supuestos que deben cumplir los datos para que los resultados de la prueba sean válidos son:"
   ]
  },
  {
   "cell_type": "markdown",
   "metadata": {},
   "source": [
    "- La variable independiente  es categórica con al menos dos niveles (grupos A y B)\n",
    "\n",
    "- La variable dependiente  es continua y se mide en una escala de intervalo o razón (salario)\n",
    "\n",
    "- La distribución de los dos grupos debe seguir la distribución normal. (Se suponen distribuciones normales)"
   ]
  },
  {
   "cell_type": "code",
   "execution_count": 99,
   "metadata": {},
   "outputs": [
    {
     "name": "stdout",
     "output_type": "stream",
     "text": [
      "Ttest_indResult(statistic=9.697205976350673, pvalue=8.605197322133209e-22)\n"
     ]
    }
   ],
   "source": [
    "welch_test = scipy.stats.ttest_ind(groupA, groupB,nan_policy='omit', equal_var = False)\n",
    "print(welch_test)"
   ]
  },
  {
   "cell_type": "markdown",
   "metadata": {},
   "source": [
    "Ahora se utiliza el p-valor arriba calculado con scipy. Para un nivel de confianza $\\alpha$, el p-valor se define como la probabilidad de obtener resultados al menos tan improbables o \"extremos\" como los observados en la muestra que tenemos, suponiendo que la hipótesis nula sea verdadera. \n",
    "\n",
    "Es decir, si tenemos una muestra de datos con un p-valor de 0,1, eso quiere decir que la probabilidad de haber obtenido los datos que tuvimos, siendo verdadera la hipótesis nula, es del 10%. Si anteriormente nos habiamos fijado una tolerancia o confianza de $\\alpha=0.05$ o sea una tolerancia del 5%, eso quiere decir que nuestros datos son consistentes con la hipótesis nula y que esta no debe rechazarse en favor de la alternativa. En cambio, si por ejemplo tenemos un p-valor de 0.01, o sea un 1% de probabilidades de haber obtenido nuestros dados, debemos rechazar la hipótesis nula, ya que el p-valor esta por debajo de nuestra tolerancia. En resumen, si tenemos un nivel de confianza $\\alpha$, la hipótesis nula no debe rechazarse si $\\alpha$ es menor al p-valor; si por el contrario se da que $\\alpha$ es mayor al p-valor, la hipótesis nula debe rechazarse en favor de la hipótesis alternativa. "
   ]
  },
  {
   "cell_type": "markdown",
   "metadata": {},
   "source": [
    "Observamos que nuestro p valor es $4.3\\times10^{-22}$, es decir si las medias de los salarios de varones y otros géneros fueran iguales, los resultados que se obtuvieron en la encuesta se hubiesen obtenido con una probabilidad del $4.3\\times10^{-22}$ (increiblemente baja!). Como nuestro $\\alpha=0.05$, $\\alpha$ es mayor (por veinte ordenes de magnitud) al p-valor, con lo cual se rechaza la hipótesis nula en favor de la alternativa, que es que los salarios del grupo A (varones) tienen una media mas alta que los del grupo B (otros generos)."
   ]
  },
  {
   "cell_type": "markdown",
   "metadata": {
    "id": "8VxiQr5YrQYR"
   },
   "source": [
    "### [Opcional] 2.3 Potencia del test\n",
    "\n",
    "Nuestra muestra, ¿era lo suficientemente grande para detectar si existe o no una diferencia entre los grupos?\n",
    "\n",
    "1. Utilice la función `tt_ind_solve_power` para calcular el tamaño necesario de la muestra para un poder estadístico de 0.8, 0.9 y 0.95, asumiendo una significancia estadística de 0.05.\n",
    "2. ¿Cómo intepretan el poder estadístico de un test? Dado su conocimiento de dominio sobre los datos, ¿les parece que esta muestra es lo suficientemente grande para ser representativo de la tendencia general? ¿y para utilizarlo en un juicio penal contra una empresa XX por una causa de discriminación?\n",
    "\n",
    "[Documentación](https://www.statsmodels.org/stable/generated/statsmodels.stats.power.tt_ind_solve_power.html)\n",
    "\n",
    "NOTA: este análisis debería hacerse ANTES de recolectar los datos."
   ]
  },
  {
   "cell_type": "code",
   "execution_count": 100,
   "metadata": {
    "colab": {
     "base_uri": "https://localhost:8080/"
    },
    "id": "_IiqGfo4t6Db",
    "outputId": "30acabed-46e2-476d-ec27-fec5823af98c"
   },
   "outputs": [],
   "source": [
    "from statsmodels.stats.power import tt_ind_solve_power"
   ]
  },
  {
   "cell_type": "code",
   "execution_count": 101,
   "metadata": {
    "id": "LUQ7MA2Apj9x"
   },
   "outputs": [],
   "source": [
    "effect_size = (groupA.mean() - groupB.mean()) / groupB.std()\n",
    "# nobs1=None  - What we want to know\n",
    "alpha = 0.05\n",
    "ratio = len(groupB) / len(groupA)\n",
    "power = [0.8,0.9,0.95]"
   ]
  },
  {
   "cell_type": "code",
   "execution_count": 102,
   "metadata": {
    "colab": {
     "base_uri": "https://localhost:8080/"
    },
    "id": "cvHcpY-3ty8Q",
    "outputId": "52cc1464-e94b-45df-9610-0592399001b9"
   },
   "outputs": [
    {
     "name": "stdout",
     "output_type": "stream",
     "text": [
      "El tamaño necesario de las muestras para tener un poder estadístico de  0.8 es 298.3073379956589\n",
      "El tamaño necesario de las muestras para tener un poder estadístico de  0.9 es 398.7961001403289\n",
      "El tamaño necesario de las muestras para tener un poder estadístico de  0.95 es 492.8117730249174\n"
     ]
    }
   ],
   "source": [
    "for p in power:\n",
    "    print('El tamaño necesario de las muestras para tener un poder estadístico de ', p, 'es', tt_ind_solve_power(effect_size=effect_size, alpha=alpha, power=p, ratio=ratio))"
   ]
  },
  {
   "cell_type": "markdown",
   "metadata": {},
   "source": [
    "El poder estadistico del test se define como la probabilidad de que el test de hipótesis nula este, efectivamente, rechazando correctamente la hipótesis nula. Es decir, si nuestra muestra tiene un poder estadistico de 0.8, quiere decir que se ha rechazado la hipótesis nula con un 80% de probabilidades de que este rechazo sea correcto. El test de poder estadistico nos da el tamaño que la muestra debe tener para que el test de hipótesis nula tenga el poder estadistico que le pedimos. Observemos que nos da que \n",
    "\n",
    "1. Para un poder estadístico del 80%, las muestras deben tener 298 elementos\n",
    "2. Para un poder estadístico del 90%, las muestras deben tener 399 elementos\n",
    "3. Para un poder estadístico del 95%, las muestras deben tener 493 elementos\n",
    "\n",
    "Estos valores son el minimo que deben tener ambas muestras para que el test tenga la eficacia que le pedimos. Como el numero de muestras en el grupo de varones es 4815 y el numero de muestras en el grupo de otros generos es 891, vemos que ambas muestras superan ampliamente el minimo para todos los niveles de confianza requeridos. Podemos decir entonces que, por lo menos, el resultado obtenido con los test de hipótesis nula es correcto con una probabilidad del 95%. \n",
    "\n",
    "Podemos concluir que los resulatdos obtenidos son representativos de la tendencia general, ya que la muestra probo ser lo suficientemente grande para los niveles de confianza que exigimos."
   ]
  },
  {
   "cell_type": "markdown",
   "metadata": {
    "id": "useKMdPyMod5"
   },
   "source": [
    "## Ejercicio 3: Comunicación y visualización\n",
    "\n",
    "**Consigna:** Seleccionen un resultado que les parezca relevante a partir de alguno de los ejercicios del entregable. Diseñe e implemente una comunicación en base a este mensaje, en un archivo PDF.\n",
    "\n",
    "Elija las palabras y visualización más adecuada para que la comunicación sea entendible, efectiva y se dapte a UNA de las siguientes situaciones:\n",
    "\n",
    "1. Una sección en un artículo de difusión a presentar como parte de una organización sin fines de lucro.\n",
    "No más de 1 página A4 (o dos si los gráficos son muy grandes).\n",
    "  1. Ejemplo: Alguna de las secciones [Los ecosistemas de emprendimiento de América Latina y el Caribe frente al COVID-19: Impactos, necesidades y recomendaciones](https://publications.iadb.org/es/los-ecosistemas-de-emprendimiento-de-america-latina-y-el-caribe-frente-al-covid-19-impactos-necesidades-y-recomendaciones), por ejemplo la sección *2.2. Reacciones de los emprendedores*.\n",
    "  2. Ejemplo: Alguna de las secciones de [The state of gender pay gap in 2021](https://www.payscale.com/data/gender-pay-gap?tk=carousel-ps-rc-job)\n",
    "  3. Puntos clave: \n",
    "    1. Simpleza de los gráficos.\n",
    "    2. Comunicación en lenguaje simple a personas que no son necesariamente expertos de dominio.\n",
    "    2. Selección de UNA oración sobre la que se hace énfasis.\n",
    "    3. No es necesario que mencionen objetivos ni descripciones del conjunto de datos, se supone que eso ya estaría explicado en otras secciones del informe.\n",
    "\n",
    "2. Una publicación científica o reporte técnico interno. No más de una página A4:\n",
    "  2. Ejemplo: La sección de resultados de [IZA DP No. 12914: The Impact of a Minimum Wage Change on the Distribution of Wages and Household Income](https://www.iza.org/publications/dp/12914/the-impact-of-a-minimum-wage-change-on-the-distribution-of-wages-and-household-income).\n",
    "  2. Ejemplo: Alguna de las secciones de [Temporary reduction in daily global CO2 emissions during the COVID-19 forced confinement](https://www.nature.com/articles/s41558-020-0797-x)\n",
    "  3. Puntos clave:\n",
    "    3. Nivel de detalle técnico requerido. Es necesario justificar la validez del análisis.\n",
    "    4. La idea presentada puede ser más compleja. Pueden asumir que la audiencia tiene conocimiento técnico y va a analizar las visualizaciones en detalle. \n",
    "    5. Pueden presentar más en detalle las limitaciones del análisis (significancia estadística, etc.)\n",
    "    2. No es necesario que mencionen objetivos ni descripciones del conjunto de datos, se supone que eso ya estaría explicado en otras secciones del informe.\n",
    "\n",
    "3. Un tweet (o post de LinkedIn) para la cuenta de su empresa consultora que hace análisis de datos. El objetivo es promocionar un análisis de datos abiertos que van a incluir en su portfolio:\n",
    "  1. Ejemplo: [Comparación vacunas covid](https://twitter.com/infobeautiful/status/1381577746527236098?s=20)\n",
    "  2. Ejemplo: [Tweet del BID](https://twitter.com/el_BID/status/1388508583944507396?s=20). Lo valioso de este tweet es que usaron un único número para transmitir un mensaje. Puede ser algo así, o con un gráfico muy simple.\n",
    "  3. Ejemplo: [Cambio climático](https://twitter.com/UNFCCC/status/1387732156190011394?s=20) Es un muy buen ejemplo, excepto que el gráfico no se lee nada y hay que entrar a la publicación original.\n",
    "  3. Ejemplo: [¿Cuánto están los programadores en las empresas?](https://www.linkedin.com/posts/denis-rothman-0b034043_tech-career-work-activity-6793861923269054464-gS6y) (No verificamos la veracidad o seriedad de la fuente).\n",
    "  4. Puntos clave:\n",
    "    1. Su audiencia no va a mirar la visualización por más de unos segundos, y no tiene conocimiento técnico.\n",
    "  3. Tienen que incluir además una *breve* descripción de cómo obtuvieron los datos que están presentando, que no entraría en el tweet.\n"
   ]
  }
 ],
 "metadata": {
  "interpreter": {
   "hash": "e7370f93d1d0cde622a1f8e1c04877d8463912d04d973331ad4851f04de6915a"
  },
  "kernelspec": {
   "display_name": "Python 3.10.2 64-bit",
   "language": "python",
   "name": "python3"
  },
  "language_info": {
   "codemirror_mode": {
    "name": "ipython",
    "version": 3
   },
   "file_extension": ".py",
   "mimetype": "text/x-python",
   "name": "python",
   "nbconvert_exporter": "python",
   "pygments_lexer": "ipython3",
   "version": "3.10.4"
  },
  "orig_nbformat": 4
 },
 "nbformat": 4,
 "nbformat_minor": 2
}
